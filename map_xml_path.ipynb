{
 "cells": [
  {
   "cell_type": "code",
   "execution_count": null,
   "id": "1dfff3b3-eace-46a9-9eaa-1005628c00c3",
   "metadata": {
    "tags": []
   },
   "outputs": [],
   "source": [
    "import prototype_2.metadata as meta_data\n",
    "import re\n",
    "import pandas as pd\n",
    "from foundry.transforms import Dataset\n",
    "\n",
    "\"\"\"\n",
    "    Scrapes paths from prototype_2/metadata python files.\n",
    "    Creates them in the style of vocab_snooper.py or its output\n",
    "    vocab_discovered_codes_expanded.\n",
    "    \n",
    "    Exports to mapped_xml_paths dataset in HDFS. \n",
    "\n",
    "\"\"\"    \n",
    "\n",
    "def get_paths(meta_dict, dedupe= False):\n",
    "    path_list = set() if dedupe else []\n",
    "    cleaner_re = r'\\[.*\\]'\n",
    "    hl7_cleaner_re = r'hl7:'\n",
    "    for domain_key, domain_dict in meta_dict.items():\n",
    "        if 'root' not in domain_dict:\n",
    "            print(f\"NO ROOT for domain? {domain_key}\")\n",
    "            continue\n",
    "        root = domain_dict['root']\n",
    "        if 'element' not in root:\n",
    "            print(f\"NO ROOT in root for {domain_key}\")\n",
    "            continue\n",
    "        root_path = root[\"element\"]        \n",
    "        if not root_path.endswith(\"/\"):\n",
    "                root_path += \"/\"        \n",
    "\n",
    "        for field_key, field_dict in domain_dict.items():\n",
    "            if field_key == \"root\" or 'element' not in field_dict:\n",
    "                continue\n",
    "\n",
    "            new_path = f\"{root_path}{field_dict['element']}\"\n",
    "\n",
    "            if 'attribute' in field_dict:\n",
    "                attribute = field_dict['attribute']\n",
    "                \n",
    "                # Fix specific attribute names\n",
    "                if attribute == \"codecode\":\n",
    "                    attribute = \"@code\"\n",
    "                elif attribute == \"codecodesystem\":\n",
    "                    attribute = \"@codeSystem\"\n",
    "                else:\n",
    "                    attribute = f\"@{attribute}\"\n",
    "\n",
    "                new_path += f\"/{attribute}\"\n",
    "                new_cleaned_path = re.sub(cleaner_re, '', new_path)\n",
    "                new_cleaned_path = re.sub(hl7_cleaner_re, '', new_cleaned_path)\n",
    "                    \n",
    "                if dedupe:\n",
    "                    path_list.add(new_cleaned_path)\n",
    "                else:\n",
    "                    path_list.append(new_cleaned_path)\n",
    "\n",
    "    return sorted(path_list) if dedupe else path_list\n",
    "\n",
    "def main():\n",
    "    meta_dict = meta_data.get_meta_dict()\n",
    "    paths = get_paths(meta_dict)\n",
    "    columns=['columns']\n",
    "    mapped_xml_paths_df = pd.DataFrame(columns=columns)\n",
    "    for path in paths:\n",
    "        mapped_xml_paths_df = pd.concat(\n",
    "            [pd.DataFrame([[path]], columns=columns), mapped_xml_paths_df], \n",
    "            ignore_index=True)\n",
    "    print(mapped_xml_paths_df)\n",
    "    \n",
    "    # export to HDFS\n",
    "    mapped_xml_paths = Dataset.get(\"mapped_xml_paths\")\n",
    "    mapped_xml_paths.write_table(mapped_xml_paths_df)       \n",
    "\n",
    "if __name__ == '__main__':\n",
    "    main()"
   ]
  },
  {
   "cell_type": "code",
   "execution_count": null,
   "id": "fa3dab2d-8f70-4040-bf11-1ef3bf0d7345",
   "metadata": {
    "tags": []
   },
   "outputs": [],
   "source": []
  },
  {
   "cell_type": "code",
   "execution_count": null,
   "id": "61245706-a1a7-4466-9da9-d5ed6647716d",
   "metadata": {},
   "outputs": [],
   "source": []
  }
 ],
 "metadata": {
  "kernelspec": {
   "display_name": "Python [user-default]",
   "language": "python",
   "name": "conda-env-user-default-py"
  },
  "language_info": {
   "codemirror_mode": {
    "name": "ipython",
    "version": 3
   },
   "file_extension": ".py",
   "mimetype": "text/x-python",
   "name": "python",
   "nbconvert_exporter": "python",
   "pygments_lexer": "ipython3",
   "version": "3.13.1"
  }
 },
 "nbformat": 4,
 "nbformat_minor": 5
}
