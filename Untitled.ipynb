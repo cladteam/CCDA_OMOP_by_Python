{
 "cells": [
  {
   "cell_type": "code",
   "execution_count": null,
   "id": "cc9e316d-6ba1-4288-94b4-59bfa8080140",
   "metadata": {
    "tags": []
   },
   "outputs": [],
   "source": [
    "--- notes for how to get this  data\n",
    "\n",
    "from foundry.transforms import Dataset\n",
    "\n",
    "ccda_value_set_mapping_table_dataset = Dataset.get(\"ccda_value_set_mapping_table_dataset\").read_table(format=\"pandas\")\n"
   ]
  },
  {
   "cell_type": "code",
   "execution_count": null,
   "id": "b8fca30f-ad73-4238-9239-0fca2908beae",
   "metadata": {
    "tags": []
   },
   "outputs": [],
   "source": [
    "from foundry.transforms import Dataset\n",
    "\n",
    "codemap_xwalk = Dataset.get(\"codemap_xwalk\").read_table(format=\"pandas\")"
   ]
  },
  {
   "cell_type": "code",
   "execution_count": null,
   "id": "bf4dcadb-aaa2-4465-b137-d56bbd41c7e8",
   "metadata": {},
   "outputs": [],
   "source": []
  }
 ],
 "metadata": {
  "kernelspec": {
   "display_name": "Python [user-default]",
   "language": "python",
   "name": "conda-env-user-default-py"
  },
  "language_info": {
   "codemirror_mode": {
    "name": "ipython",
    "version": 3
   },
   "file_extension": ".py",
   "mimetype": "text/x-python",
   "name": "python",
   "nbconvert_exporter": "python",
   "pygments_lexer": "ipython3",
   "version": "3.12.7"
  }
 },
 "nbformat": 4,
 "nbformat_minor": 5
}
