{
 "cells": [
  {
   "cell_type": "code",
   "execution_count": null,
   "id": "7e64642b-975d-45a9-9f78-961c5def5e83",
   "metadata": {
    "tags": []
   },
   "outputs": [],
   "source": [
    "\n",
    "from prototype_2 import layer_datasets\n",
    "\n",
    "# emulating this command\n",
    "# python3 -m prototype_2.layer_datasets -ds ccda_documents  -x\n",
    "\n",
    "hard_coded_dataset_name_files=\"ccda_documents\"\n",
    "hard_coded_dataset_name_strings=\"ehx_ccda_response_example_copy\"\n",
    "\n",
    "ccda_response_files=\"ccda_response_files\"\n",
    "layer_datasets.process_dataset_of_files(ccda_response_files, export_datasets=1, write_csv_flag=False, limit=10)\n",
    "\n",
    "\n",
    "      \n",
    "print(\"done\")\n"
   ]
  },
  {
   "cell_type": "code",
   "execution_count": null,
   "id": "49ff5b9b-c8b3-4df1-aa94-9f541e048263",
   "metadata": {},
   "outputs": [],
   "source": []
  },
  {
   "cell_type": "code",
   "execution_count": null,
   "id": "b3bc0bbc-9f64-4c3f-a6e7-8b95731bf730",
   "metadata": {},
   "outputs": [],
   "source": []
  },
  {
   "cell_type": "code",
   "execution_count": null,
   "id": "054e0f6b-0e36-4e53-af22-8e7a247a56c5",
   "metadata": {},
   "outputs": [],
   "source": [
    "\n"
   ]
  },
  {
   "cell_type": "code",
   "execution_count": null,
   "id": "72aea0b2-d3eb-4352-b379-19b912f33fdc",
   "metadata": {},
   "outputs": [],
   "source": []
  },
  {
   "cell_type": "code",
   "execution_count": null,
   "id": "1829d820-c7e0-4080-80a7-0f6964067b66",
   "metadata": {},
   "outputs": [],
   "source": []
  },
  {
   "cell_type": "code",
   "execution_count": null,
   "id": "c8189935-1de3-498b-b223-b37199e95f2f",
   "metadata": {},
   "outputs": [],
   "source": []
  },
  {
   "cell_type": "code",
   "execution_count": null,
   "id": "045d0d97-f97c-4c5d-b8c1-286173b7ef7d",
   "metadata": {},
   "outputs": [],
   "source": []
  }
 ],
 "metadata": {
  "kernelspec": {
   "display_name": "Python [user-default]",
   "language": "python",
   "name": "conda-env-user-default-py"
  },
  "language_info": {
   "codemirror_mode": {
    "name": "ipython",
    "version": 3
   },
   "file_extension": ".py",
   "mimetype": "text/x-python",
   "name": "python",
   "nbconvert_exporter": "python",
   "pygments_lexer": "ipython3",
   "version": "3.13.1"
  }
 },
 "nbformat": 4,
 "nbformat_minor": 5
}
