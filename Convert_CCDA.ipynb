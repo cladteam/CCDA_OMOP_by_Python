{
 "cells": [
  {
   "cell_type": "code",
   "execution_count": null,
   "id": "a9f5fe09-33fb-40c3-b242-1854c70c0ee8",
   "metadata": {},
   "outputs": [],
   "source": []
  },
  {
   "cell_type": "code",
   "execution_count": null,
   "id": "364020ac-0489-48e2-87c1-af034718c6ed",
   "metadata": {},
   "outputs": [],
   "source": [
    "from datetime import date\n",
    "\n",
    "today = date.today()\n",
    "print(\"Today's date:\", today)"
   ]
  },
  {
   "cell_type": "code",
   "execution_count": null,
   "id": "7e64642b-975d-45a9-9f78-961c5def5e83",
   "metadata": {
    "tags": []
   },
   "outputs": [],
   "source": [
    "%%keep_alive\n",
    "\n",
    "from prototype_2 import layer_datasets\n",
    "\n",
    "# emulating this command\n",
    "# python3 -m prototype_2.layer_datasets -ds ccda_documents  -x\n",
    "\n",
    "hard_coded_dataset_name_files=\"ccda_documents\"\n",
    "hard_coded_dataset_name_strings=\"ehx_ccda_response_example_copy\"\n",
    "\n",
    "ccda_response_files=\"ccda_response_files\"\n",
    "# %keep_alive fails\n",
    "# %%keep_alive says use %keep_alive\n",
    "# \\%keep_alive \"unexpected character after line continuation character\n",
    "# \\\\%keep_aliveSyntaxError: unexpected character after line continuation character\n",
    "\n",
    "\n",
    "\n",
    "layer_datasets.process_dataset_of_files(ccda_response_files, export_datasets=True, write_csv_flag=False, limit=700)\n",
    "\n",
    "\n",
    "      \n",
    "print(\"done\")\n"
   ]
  },
  {
   "cell_type": "code",
   "execution_count": null,
   "id": "eb7927d1-e91b-41d2-9413-0323bd145527",
   "metadata": {},
   "outputs": [],
   "source": [
    "from datetime import date\n",
    "\n",
    "today = date.today()\n",
    "print(\"Today's date:\", today)"
   ]
  }
 ],
 "metadata": {
  "kernelspec": {
   "display_name": "Python [user-default]",
   "language": "python",
   "name": "conda-env-user-default-py"
  },
  "language_info": {
   "codemirror_mode": {
    "name": "ipython",
    "version": 3
   },
   "file_extension": ".py",
   "mimetype": "text/x-python",
   "name": "python",
   "nbconvert_exporter": "python",
   "pygments_lexer": "ipython3",
   "version": "3.13.1"
  }
 },
 "nbformat": 4,
 "nbformat_minor": 5
}
