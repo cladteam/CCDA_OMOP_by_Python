{
 "cells": [
  {
   "cell_type": "code",
   "execution_count": null,
   "id": "7e64642b-975d-45a9-9f78-961c5def5e83",
   "metadata": {
    "tags": []
   },
   "outputs": [],
   "source": [
    "from prototype_2 import layer_datasets\n",
    "\n",
    "# emulating this command\n",
    "# python3 -m prototype_2.layer_datasets -ds ccda_documents  -x\n",
    "\n",
    "hard_coded_dataset_name=\"ccda_documents\"\n",
    "print(\"starting...\")\n",
    "layer_datasets.process_dataset(hard_coded_dataset_name, 0, 1)\n",
    "      \n",
    "print(\"done\")\n"
   ]
  },
  {
   "cell_type": "code",
   "execution_count": null,
   "id": "49ff5b9b-c8b3-4df1-aa94-9f541e048263",
   "metadata": {},
   "outputs": [],
   "source": []
  }
 ],
 "metadata": {
  "kernelspec": {
   "display_name": "Python [user-default]",
   "language": "python",
   "name": "conda-env-user-default-py"
  },
  "language_info": {
   "codemirror_mode": {
    "name": "ipython",
    "version": 3
   },
   "file_extension": ".py",
   "mimetype": "text/x-python",
   "name": "python",
   "nbconvert_exporter": "python",
   "pygments_lexer": "ipython3",
   "version": "3.13.1"
  }
 },
 "nbformat": 4,
 "nbformat_minor": 5
}
